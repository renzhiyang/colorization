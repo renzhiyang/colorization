{
 "cells": [
  {
   "cell_type": "code",
   "execution_count": null,
   "metadata": {},
   "outputs": [],
   "source": [
    "import tensorflow as tf\n",
    "import numpy as np\n",
    "import os\n",
    "import random\n",
    "from matplotlib import pyplot as plt\n",
    "import skimage.color as color"
   ]
  },
  {
   "cell_type": "code",
   "execution_count": 32,
   "metadata": {},
   "outputs": [],
   "source": [
    "#leaky relu\n",
    "def lrelu(x, leak=0.2, name=\"lrelu\", alt_relu_impl=False):\n",
    "\n",
    "    with tf.variable_scope(name):\n",
    "        if alt_relu_impl:\n",
    "            f1 = 0.5 * (1 + leak)\n",
    "            f2 = 0.5 * (1 - leak)\n",
    "            # lrelu = 1/2 * (1 + leak) * x + 1/2 * (1 - leak) * |x|\n",
    "            return f1 * x + f2 * abs(x)\n",
    "        else:\n",
    "            return tf.maximum(x, leak*x)\n",
    "\n",
    "\n",
    "#instance normalize\n",
    "def instance_norm(x):\n",
    "    with tf.variable_scope(\"instance_norm\"):\n",
    "        epsilon = 1e-5\n",
    "        mean, var = tf.nn.moments(x, [1, 2], keep_dims=True)\n",
    "        scale = tf.get_variable('scale',[x.get_shape()[-1]], \n",
    "            initializer=tf.truncated_normal_initializer(mean=1.0, stddev=0.02))\n",
    "        offset = tf.get_variable('offset',[x.get_shape()[-1]],initializer=tf.constant_initializer(0.0))\n",
    "        out = scale*tf.div(x-mean, tf.sqrt(var+epsilon)) + offset\n",
    "\n",
    "        return out"
   ]
  },
  {
   "cell_type": "code",
   "execution_count": 40,
   "metadata": {},
   "outputs": [],
   "source": [
    "def general_conv2d(inputconv, filters, kernel_size, strides, do_norm=True, do_relu=True, relufactor=0, name=\"conv2d\"):\n",
    "    stddev=0.02\n",
    "    with tf.variable_scope(name, reuse = True):\n",
    "        conv = tf.contrib.layers.conv2d(inputs=inputconv,\n",
    "                                       num_outputs=filters,\n",
    "                                       kernel_size=kernel_size,\n",
    "                                       stride=strides,\n",
    "                                       activation_fn = None,\n",
    "                                       weights_initializer = tf.truncated_normal_initializer(stddev=stddev),\n",
    "                                       scope=name)\n",
    "\n",
    "        if do_norm:\n",
    "            conv = instance_norm(conv)\n",
    "\n",
    "        if do_relu:\n",
    "            if(relufactor == 0):\n",
    "                conv = tf.nn.relu(conv,\"relu\")\n",
    "            else:\n",
    "                conv = lrelu(conv, relufactor, \"lrelu\")\n",
    "        return conv"
   ]
  },
  {
   "cell_type": "markdown",
   "metadata": {},
   "source": [
    "载入图像，并做卷积，输出中间层的显示"
   ]
  },
  {
   "cell_type": "code",
   "execution_count": 54,
   "metadata": {
    "scrolled": true
   },
   "outputs": [
    {
     "name": "stdout",
     "output_type": "stream",
     "text": [
      "Tensor(\"strided_slice_92:0\", shape=(112, 112, 3), dtype=float32)\n"
     ]
    },
    {
     "data": {
      "image/png": "[encoded data removed]",
      "text/plain": [
       "<matplotlib.figure.Figure at 0x1a910ff4d30>"
      ]
     },
     "metadata": {},
     "output_type": "display_data"
    }
   ],
   "source": [
    "import tensorflow as tf;    \n",
    "import matplotlib.pyplot as plt\n",
    "\n",
    "filters = 64\n",
    "kernel_size = 3\n",
    "path = 'F:\\\\Project_Yang\\\\Database\\\\sparse_image4_1000bmp\\\\0_mask.bmp'  \n",
    "file_queue = tf.train.string_input_producer([path]) #创建输入队列  \n",
    "image_reader = tf.WholeFileReader()  \n",
    "_, image = image_reader.read(file_queue)  \n",
    "image = tf.image.decode_bmp(image)\n",
    "image_batch = tf.reshape(image,[1,224,224,3],\"reshape\")\n",
    "image_batch = tf.cast(image_batch, tf.float32)\n",
    "\n",
    "with tf.name_scope(\"network\") as scope:\n",
    "    image = general_conv2d(image_batch, filters, kernel_size, 1, name = \"1111\")\n",
    "    image = general_conv2d(image, filters, kernel_size, 1, name = \"2221\")\n",
    "    image = general_conv2d(image, filters * 2, kernel_size, 2, name = \"3331\")\n",
    "    image = general_conv2d(image, 3, kernel_size, 1, name = \"4441\")\n",
    "    \n",
    "  \n",
    "with tf.Session() as sess:  \n",
    "    coord = tf.train.Coordinator() #协同启动的线程  \n",
    "    threads = tf.train.start_queue_runners(sess=sess, coord=coord) #启动线程运行队列  \n",
    "    init = tf.global_variables_initializer()\n",
    "    sess.run(init)\n",
    "    sess.run(image)  \n",
    "    coord.request_stop() #停止所有的线程  \n",
    "    coord.join(threads)  \n",
    "    print(image[0])\n",
    "    image_uint8 = tf.image.convert_image_dtype(image[0], dtype = tf.uint8)\n",
    "    plt.imshow(image_uint8.eval())\n",
    "    plt.show()\n",
    "        "
   ]
  }
 ],
 "metadata": {
  "kernelspec": {
   "display_name": "Python 3",
   "language": "python",
   "name": "python3"
  },
  "language_info": {
   "codemirror_mode": {
    "name": "ipython",
    "version": 3
   },
   "file_extension": ".py",
   "mimetype": "text/x-python",
   "name": "python",
   "nbconvert_exporter": "python",
   "pygments_lexer": "ipython3",
   "version": "3.6.3"
  }
 },
 "nbformat": 4,
 "nbformat_minor": 2
}

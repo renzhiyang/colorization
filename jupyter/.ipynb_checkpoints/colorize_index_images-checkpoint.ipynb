{
 "cells": [
  {
   "cell_type": "code",
   "execution_count": 1,
   "metadata": {
    "scrolled": true
   },
   "outputs": [
    {
     "ename": "ImportError",
     "evalue": "No module named tensorflow",
     "output_type": "error",
     "traceback": [
      "\u001b[1;31m---------------------------------------------------------------------------\u001b[0m",
      "\u001b[1;31mImportError\u001b[0m                               Traceback (most recent call last)",
      "\u001b[1;32m<ipython-input-1-f6ccede39302>\u001b[0m in \u001b[0;36m<module>\u001b[1;34m()\u001b[0m\n\u001b[0;32m      2\u001b[0m \u001b[1;32mimport\u001b[0m \u001b[0mnumpy\u001b[0m \u001b[1;32mas\u001b[0m \u001b[0mnp\u001b[0m\u001b[1;33m\u001b[0m\u001b[0m\n\u001b[0;32m      3\u001b[0m \u001b[1;32mimport\u001b[0m \u001b[0mos\u001b[0m\u001b[1;33m\u001b[0m\u001b[0m\n\u001b[1;32m----> 4\u001b[1;33m \u001b[1;32mimport\u001b[0m \u001b[0mtensorflow\u001b[0m \u001b[1;32mas\u001b[0m \u001b[0mtf\u001b[0m\u001b[1;33m\u001b[0m\u001b[0m\n\u001b[0m\u001b[0;32m      5\u001b[0m \u001b[1;32mimport\u001b[0m \u001b[0mmatplotlib\u001b[0m\u001b[1;33m.\u001b[0m\u001b[0mpyplot\u001b[0m \u001b[1;32mas\u001b[0m \u001b[0mplt\u001b[0m\u001b[1;33m\u001b[0m\u001b[0m\n",
      "\u001b[1;31mImportError\u001b[0m: No module named tensorflow"
     ]
    }
   ],
   "source": [
    "from PIL import Image\n",
    "import numpy as np\n",
    "import os\n",
    "import tensorflow as tf\n",
    "import matplotlib.pyplot as plt"
   ]
  },
  {
   "cell_type": "code",
   "execution_count": null,
   "metadata": {
    "collapsed": true
   },
   "outputs": [],
   "source": [
    "\n",
    "\n",
    "# 递归遍历\n",
    "def get_all_files(file_path):\n",
    "    filename_list = []\n",
    "\n",
    "    for item in os.listdir(file_path):\n",
    "        path = file_path + '\\\\' + item\n",
    "        if os.path.isdir(path):     # 如果是文件夹\n",
    "            filename_list.extend(get_all_files(path))\n",
    "        elif os.path.isfile(path):  # 如果是文件项\n",
    "            filename_list.append(path)\n",
    "\n",
    "    filename_list = np.asarray(filename_list)\n",
    "\n",
    "    return filename_list\n",
    "\n",
    "\n",
    "def get_image_list(img_dir, theme_dir):\n",
    "    # 获取灰度图和颜色主题\n",
    "    image_list = get_all_files(img_dir)\n",
    "    theme_list = get_all_files(theme_dir)\n",
    "\n",
    "    print(\"图像目录%s, 文件个数%d\" % (img_dir, len(image_list)))\n",
    "    print(\"颜色主题目录%s, 文件个数%d\" % (theme_dir, len(theme_list)))\n",
    "\n",
    "    return [image_list, theme_list]\n",
    "\n",
    "\n",
    "def changeColor(img_dir, theme_dir):\n",
    "    train_list = get_image_list(img_dir, theme_dir)\n",
    "\n",
    "    image_list = train_list[0]\n",
    "    theme_list = train_list[1]\n",
    "    num = len(image_list)\n",
    "\n",
    "    dst_dir = \"D:\\\\dataset\\\\imagesPlaces224\\\\index_images_colored\\\\ColorMap7\"\n",
    "\n",
    "    for k in range(num):\n",
    "        index = Image.open(image_list[k])\n",
    "        theme = Image.open(theme_list[k])\n",
    "\n",
    "        color = Image.new('RGB', index.size)\n",
    "\n",
    "        rows, cols = index.size\n",
    "        for i in range(rows):\n",
    "            for j in range(cols):\n",
    "                p_index = index.getpixel((i, j)) - 1\n",
    "                p_color = theme.getpixel((p_index, 0))\n",
    "                color.putpixel((i, j), p_color)\n",
    "\n",
    "        file = image_list[k].split('IndexMap7')\n",
    "        filename = file[-1].split('\\\\')[-1].split('.')[0]\n",
    "        dir = dst_dir + file[-1].split('gsun')[0]\n",
    "        if os.path.exists(dir):\n",
    "            pass\n",
    "        else:\n",
    "            print(['正在生成', dir])\n",
    "            os.makedirs(dir)\n",
    "\n",
    "        file_dir = dir + filename + '.jpg'\n",
    "        color.save(file_dir, 'JPEG')\n",
    "\n",
    "    return 0\n",
    "\n",
    "\n",
    "img_dir = \"D:\\\\dataset\\\\imagesPlaces224\\\\index_images\\\\IndexMap7\\\\\"\n",
    "theme_dir = \"D:\\\\dataset\\\\imagesPlaces224\\\\theme_images\\\\ColorTheme7\\\\\"\n",
    "\n",
    "changeColor(img_dir, theme_dir)"
   ]
  }
 ],
 "metadata": {
  "kernelspec": {
   "display_name": "Python 2",
   "language": "python",
   "name": "python2"
  },
  "language_info": {
   "codemirror_mode": {
    "name": "ipython",
    "version": 2
   },
   "file_extension": ".py",
   "mimetype": "text/x-python",
   "name": "python",
   "nbconvert_exporter": "python",
   "pygments_lexer": "ipython2",
   "version": "2.7.14"
  }
 },
 "nbformat": 4,
 "nbformat_minor": 2
}

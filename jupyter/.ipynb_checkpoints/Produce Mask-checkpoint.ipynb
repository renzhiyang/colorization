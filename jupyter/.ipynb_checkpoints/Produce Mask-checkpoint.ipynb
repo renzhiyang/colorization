{
 "cells": [
  {
   "cell_type": "code",
   "execution_count": 1,
   "metadata": {
    "scrolled": false
   },
   "outputs": [],
   "source": [
    "from PIL import Image\n",
    "import numpy as np\n",
    "from numpy.linalg import cholesky\n",
    "import matplotlib.pyplot as plt\n",
    "import os"
   ]
  },
  {
   "cell_type": "markdown",
   "metadata": {
    "collapsed": true,
    "slideshow": {
     "slide_type": "-"
    }
   },
   "source": [
    "sampleNo是像素点的数目\n",
    "这个函数新建图像并从原图中提取像素点存在在新图中，提取的像素点是用二维高斯得到的坐标。"
   ]
  },
  {
   "cell_type": "code",
   "execution_count": 19,
   "metadata": {
    "scrolled": true
   },
   "outputs": [],
   "source": [
    "sampleNo = 20\n",
    "\n",
    "def CreatePixelImage(oriImage, size, name, maskName):   \n",
    "    mu = np.array([[size[0]/2, size[1]/2]])\n",
    "    sigma0 = int(pow((size[0]/4),2))\n",
    "    sigma1 = int(pow((size[1]/4),2))\n",
    "    Sigma = np.array([[sigma0, 0], [0, sigma1]])\n",
    "\n",
    "    R = cholesky(Sigma)\n",
    "    pointList = np.dot(np.random.randn(sampleNo, 2), R) + mu\n",
    "    newImg = Image.new(\"RGB\", size)\n",
    "    pnewImg = newImg.load()\n",
    "    \n",
    "    newMaskImg = Image.new(\"RGB\", size)\n",
    "    pnewMaskImg = newMaskImg.load()\n",
    "    for i in range(len(pointList)):\n",
    "        x = int(pointList[i][0])\n",
    "        y = int(pointList[i][1])\n",
    "        if x > 223:\n",
    "            x = 223\n",
    "        if x < 0:\n",
    "            x = 0\n",
    "        if y > 223:\n",
    "            y = 223\n",
    "        if y < 0:\n",
    "            y = 0\n",
    "        pnewMaskImg[x,y] = (255, 255, 255, 255)\n",
    "        pnewImg[x,y] = oriImage[x,y]\n",
    "    newImg.save(name)\n",
    "    newMaskImg.save(maskName)"
   ]
  },
  {
   "cell_type": "code",
   "execution_count": 20,
   "metadata": {
    "scrolled": true
   },
   "outputs": [
    {
     "name": "stdout",
     "output_type": "stream",
     "text": [
      "0\n"
     ]
    }
   ],
   "source": [
    "filename_list = []\n",
    "file_path = \"F:/Project_Yang/Database/new_colorimage4\"\n",
    "for item in os.listdir(file_path):\n",
    "    path = file_path + '/' + item\n",
    "    if os.path.isdir(path):     # 如果是文件夹\n",
    "        filename_list.extend(get_all_files(path))\n",
    "    elif os.path.isfile(path):  # 如果是文件\n",
    "        filename_list.append(path)\n",
    "\n",
    "for i in range(len(filename_list)):\n",
    "#for i in range(100):\n",
    "    img = Image.open(filename_list[i])\n",
    "    pimg = img.load()\n",
    "    size = img.size\n",
    "    if i % 1000 == 0:\n",
    "        print(i)\n",
    "    #CreatePixelImage(pimg,size,'F:/Project_Yang/Database/sparse_image4_100bmp/' + str(i) + '_mask.bmp')\n",
    "    CreatePixelImage(pimg,size,'F:/Project_Yang/Database/sparse_image/' + str(i) + '_sparse.bmp', \n",
    "                     'F:/Project_Yang/Database/mask_image/' + str(i) + '_mask.bmp')\n"
   ]
  },
  {
   "cell_type": "markdown",
   "metadata": {
    "collapsed": true
   },
   "source": [
    "产生灰度图"
   ]
  },
  {
   "cell_type": "code",
   "execution_count": 5,
   "metadata": {
    "collapsed": true
   },
   "outputs": [],
   "source": [
    "filename_list = []\n",
    "file_path = \"F:/Project_Yang/Database/index_image1000\"\n",
    "for item in os.listdir(file_path):\n",
    "    path = file_path + '/' + item\n",
    "    if os.path.isdir(path):     # 如果是文件夹\n",
    "        filename_list.extend(get_all_files(path))\n",
    "    elif os.path.isfile(path):  # 如果是文件\n",
    "        filename_list.append(path)\n",
    "\n",
    "for i in range(10):\n",
    "    img = Image.open(filename_list[i]).convert('L')\n",
    "    img.save('F:/Project_Yang/Code/colorImageColorization-yang/test_images/' + str(i) + '_test.jpg')"
   ]
  },
  {
   "cell_type": "code",
   "execution_count": null,
   "metadata": {
    "collapsed": true
   },
   "outputs": [],
   "source": []
  }
 ],
 "metadata": {
  "kernelspec": {
   "display_name": "Python 3",
   "language": "python",
   "name": "python3"
  },
  "language_info": {
   "codemirror_mode": {
    "name": "ipython",
    "version": 3
   },
   "file_extension": ".py",
   "mimetype": "text/x-python",
   "name": "python",
   "nbconvert_exporter": "python",
   "pygments_lexer": "ipython3",
   "version": "3.6.3"
  }
 },
 "nbformat": 4,
 "nbformat_minor": 2
}

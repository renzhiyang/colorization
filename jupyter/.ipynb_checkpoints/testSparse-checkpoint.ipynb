{
 "cells": [
  {
   "cell_type": "code",
   "execution_count": 2,
   "metadata": {
    "scrolled": true
   },
   "outputs": [],
   "source": [
    "from PIL import Image\n",
    "import numpy as np\n",
    "from numpy.linalg import cholesky\n",
    "import matplotlib.pyplot as plt\n",
    "import tensorflow as tf\n",
    "import os"
   ]
  },
  {
   "cell_type": "code",
   "execution_count": null,
   "metadata": {},
   "outputs": [],
   "source": [
    "def get_l_channel(image, image_size):\n",
    "    l_channel = tf.image.decode_jpeg(image, channels=3)\n",
    "    l_channel = tf.image.resize_images(l_channel, [image_size, image_size])\n",
    "    l_channel = tf.cast(l_channel, tf.float64) / 255.0\n",
    "    l_channel = input_data.rgb_to_lab(l_channel)\n",
    "    l_channel = tf.cast(l_channel, tf.float32)\n",
    "    ab_channel = (l_channel[:, :, 1:] + 128) / 255.0\n",
    "    ab_channel = tf.reshape(ab_channel, [1, image_size, image_size, 2])\n",
    "    l_channel = l_channel[:, :, 0] / 100.0\n",
    "    l_channel = tf.reshape(l_channel, [1, image_size, image_size, 1])\n",
    "    # l_channel = tf.cast(l_channel, tf.float64)\n",
    "\n",
    "    return l_channel, ab_channel"
   ]
  },
  {
   "cell_type": "code",
   "execution_count": 12,
   "metadata": {
    "scrolled": true
   },
   "outputs": [],
   "source": [
    "path = \"F:/Project_Yang/Code/Project_Yang/sparseimg/0_mask.bmp\"\n",
    "test_image1 = tf.read_file(path)\n",
    "l_channel, ab_channel = get_l_channel(test_image1, 224)"
   ]
  },
  {
   "cell_type": "code",
   "execution_count": 10,
   "metadata": {},
   "outputs": [],
   "source": [
    "with tf.Session() as sess:  \n",
    "    coord = tf.train.Coordinator() #协同启动的线程  \n",
    "    threads = tf.train.start_queue_runners(sess=sess, coord=coord) #启动线程运行队列  \n",
    "    sess.run(image)  \n",
    "    coord.request_stop() #停止所有的线程  \n",
    "    coord.join(threads)  \n",
    "    image_uint8 = tf.image.convert_image_dtype(image, dtype = tf.uint8)\n",
    "    plt.imshow(image_uint8.eval())"
   ]
  },
  {
   "cell_type": "code",
   "execution_count": null,
   "metadata": {},
   "outputs": [],
   "source": []
  }
 ],
 "metadata": {
  "kernelspec": {
   "display_name": "Python 3",
   "language": "python",
   "name": "python3"
  },
  "language_info": {
   "codemirror_mode": {
    "name": "ipython",
    "version": 3
   },
   "file_extension": ".py",
   "mimetype": "text/x-python",
   "name": "python",
   "nbconvert_exporter": "python",
   "pygments_lexer": "ipython3",
   "version": "3.6.3"
  }
 },
 "nbformat": 4,
 "nbformat_minor": 2
}

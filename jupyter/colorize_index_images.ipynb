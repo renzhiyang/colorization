{
 "cells": [
  {
   "cell_type": "code",
   "execution_count": 3,
   "metadata": {
    "scrolled": true
   },
   "outputs": [],
   "source": [
    "from PIL import Image\n",
    "import numpy as np\n",
    "import os\n",
    "import tensorflow as tf\n",
    "import matplotlib.pyplot as plt"
   ]
  },
  {
   "cell_type": "code",
   "execution_count": 4,
   "metadata": {
    "scrolled": true
   },
   "outputs": [
    {
     "name": "stdout",
     "output_type": "stream",
     "text": [
      "图像目录G:\\Database\\ColoredData\\IndexMap5_colorImages4, 文件个数152155\n",
      "颜色主题目录G:\\Database\\ColoredData\\colorImages4_5theme, 文件个数152155\n",
      "['正在生成', 'G:\\\\Database\\\\ColoredData\\\\ColorMap5_image4\\\\']\n"
     ]
    },
    {
     "data": {
      "text/plain": [
       "0"
      ]
     },
     "execution_count": 4,
     "metadata": {},
     "output_type": "execute_result"
    }
   ],
   "source": [
    "# 递归遍历\n",
    "def get_all_files(file_path):\n",
    "    filename_list = []\n",
    "\n",
    "    for item in os.listdir(file_path):\n",
    "        path = file_path + '\\\\' + item\n",
    "        if os.path.isdir(path):     # 如果是文件夹\n",
    "            filename_list.extend(get_all_files(path))\n",
    "        elif os.path.isfile(path):  # 如果是文件项\n",
    "            filename_list.append(path)\n",
    "\n",
    "    filename_list = np.asarray(filename_list)\n",
    "\n",
    "    return filename_list\n",
    "\n",
    "\n",
    "def get_image_list(img_dir, theme_dir):\n",
    "    # 获取灰度图和颜色主题\n",
    "    image_list = get_all_files(img_dir)\n",
    "    theme_list = get_all_files(theme_dir)\n",
    "\n",
    "    print(\"图像目录%s, 文件个数%d\" % (img_dir, len(image_list)))\n",
    "    print(\"颜色主题目录%s, 文件个数%d\" % (theme_dir, len(theme_list)))\n",
    "\n",
    "    return [image_list, theme_list]\n",
    "\n",
    "\n",
    "def changeColor(img_dir, theme_dir):\n",
    "    train_list = get_image_list(img_dir, theme_dir)\n",
    "\n",
    "    image_list = train_list[0]\n",
    "    theme_list = train_list[1]\n",
    "    num = len(image_list)\n",
    "\n",
    "    dst_dir = \"G:\\\\Database\\\\ColoredData\\\\ColorMap5_image4\"\n",
    "\n",
    "    for k in range(num):\n",
    "        index = Image.open(image_list[k])\n",
    "        theme = Image.open(theme_list[k])\n",
    "\n",
    "        color = Image.new('RGB', index.size)\n",
    "\n",
    "        rows, cols = index.size\n",
    "        for i in range(rows):\n",
    "            for j in range(cols):\n",
    "                p_index = index.getpixel((i, j)) - 1\n",
    "                p_color = theme.getpixel((p_index, 0))\n",
    "                color.putpixel((i, j), p_color)\n",
    "\n",
    "        file = image_list[k].split('IndexMap5_colorImages4')\n",
    "        filename = file[-1].split('\\\\')[-1].split('.')[0]\n",
    "        dir = dst_dir + file[-1].split('colored')[0]\n",
    "        if os.path.exists(dir):\n",
    "            pass\n",
    "        else:\n",
    "            print(['正在生成', dir])\n",
    "            os.makedirs(dir)\n",
    "\n",
    "        file_dir = dir + filename + '.jpg'\n",
    "        color.save(file_dir, 'JPEG')\n",
    "\n",
    "    return 0\n",
    "\n",
    "\n",
    "img_dir = \"G:\\\\Database\\\\ColoredData\\\\IndexMap5_colorImages4\"\n",
    "theme_dir = \"G:\\\\Database\\\\ColoredData\\\\colorImages4_5theme\"\n",
    "\n",
    "changeColor(img_dir, theme_dir)"
   ]
  },
  {
   "cell_type": "code",
   "execution_count": null,
   "metadata": {},
   "outputs": [],
   "source": []
  }
 ],
 "metadata": {
  "kernelspec": {
   "display_name": "Python 3",
   "language": "python",
   "name": "python3"
  },
  "language_info": {
   "codemirror_mode": {
    "name": "ipython",
    "version": 3
   },
   "file_extension": ".py",
   "mimetype": "text/x-python",
   "name": "python",
   "nbconvert_exporter": "python",
   "pygments_lexer": "ipython3",
   "version": "3.6.3"
  }
 },
 "nbformat": 4,
 "nbformat_minor": 2
}

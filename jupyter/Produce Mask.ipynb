{
 "cells": [
  {
   "cell_type": "code",
   "execution_count": 1,
   "metadata": {
    "collapsed": true,
    "scrolled": false
   },
   "outputs": [],
   "source": [
    "from PIL import Image\n",
    "import numpy as np\n",
    "from numpy.linalg import cholesky\n",
    "import matplotlib.pyplot as plt\n",
    "import random \n",
    "import os"
   ]
  },
  {
   "cell_type": "markdown",
   "metadata": {
    "collapsed": true,
    "slideshow": {
     "slide_type": "-"
    }
   },
   "source": [
    "sampleNo是像素点的数目\n",
    "这个函数新建图像并从原图中提取像素点存在在新图中，提取的像素点是用二维高斯得到的坐标。"
   ]
  },
  {
   "cell_type": "code",
   "execution_count": 13,
   "metadata": {},
   "outputs": [
    {
     "name": "stdout",
     "output_type": "stream",
     "text": [
      "0\n",
      "5000\n",
      "10000\n",
      "15000\n",
      "20000\n",
      "25000\n",
      "30000\n",
      "35000\n",
      "40000\n",
      "45000\n",
      "50000\n",
      "55000\n",
      "60000\n",
      "65000\n",
      "70000\n",
      "75000\n",
      "80000\n",
      "85000\n",
      "90000\n",
      "95000\n",
      "100000\n",
      "105000\n",
      "110000\n",
      "115000\n",
      "120000\n",
      "125000\n",
      "130000\n",
      "135000\n",
      "140000\n",
      "145000\n",
      "150000\n"
     ]
    }
   ],
   "source": [
    "output_mask_path =  \"G:/Database/ColoredData/newSparseMask\"\n",
    "output_sparse_path =  \"G:/Database/ColoredData/newSparse\"\n",
    "\n",
    "index_filename_list = []\n",
    "index_file_path = \"G:/Database/ColoredData/new_colorimage4\"\n",
    "\n",
    "for item in os.listdir(index_file_path):\n",
    "    path = index_file_path + '/' + item\n",
    "    if os.path.isdir(path):     # 如果是文件夹\n",
    "        index_filename_list.extend(get_all_files(path))\n",
    "    elif os.path.isfile(path):  # 如果是文件\n",
    "        index_filename_list.append(path)\n",
    "\n",
    "\n",
    "for i in range(len(index_filename_list)):\n",
    "#for i in range(10):\n",
    "    indexImg = Image.open(index_filename_list[i])\n",
    "    idximg = indexImg.load()\n",
    "    image_size = indexImg.size\n",
    "    \n",
    "    mu = np.array([[image_size[0]/2, image_size[1]/2]])\n",
    "    sigma0 = int(pow((image_size[0]/4),2))\n",
    "    sigma1 = int(pow((image_size[1]/4),2))\n",
    "    Sigma = np.array([[sigma0, 0], [0, sigma1]])\n",
    "    \n",
    "    point_num = random.randint(3, 20)\n",
    "    R = cholesky(Sigma)\n",
    "    pointList = np.dot(np.random.randn(point_num, 2), R) + mu\n",
    "    newMaskImg = Image.new(\"RGB\", image_size)\n",
    "    pnewMaskImg = newMaskImg.load()\n",
    "    \n",
    "    newSparseImg = Image.new(\"RGB\", image_size, (255,255,255,255))\n",
    "    pnewSparseImg = newSparseImg.load()\n",
    "\n",
    "    if i % 5000 == 0:\n",
    "        print(i)\n",
    "    for k in range(len(pointList)):\n",
    "        x = int(pointList[k][0])\n",
    "        y = int(pointList[k][1])\n",
    "        if x > 223:\n",
    "            x = 223\n",
    "        if x < 0:\n",
    "            x = 0\n",
    "        if y > 223:\n",
    "            y = 223\n",
    "        if y < 0:\n",
    "            y = 0\n",
    "        pnewSparseImg[x,y] = idximg[x,y]\n",
    "        pnewMaskImg[x,y] = (255, 255, 255, 255)\n",
    "    name = index_filename_list[i].split('colored')\n",
    "    newSparseImg.save(output_sparse_path + '/' + 'sparse' + name[1])\n",
    "    newMaskImg.save(output_mask_path + '/' + 'sparsemask' + name[1])"
   ]
  },
  {
   "cell_type": "code",
   "execution_count": null,
   "metadata": {
    "collapsed": true
   },
   "outputs": [],
   "source": []
  }
 ],
 "metadata": {
  "kernelspec": {
   "display_name": "Python 3",
   "language": "python",
   "name": "python3"
  },
  "language_info": {
   "codemirror_mode": {
    "name": "ipython",
    "version": 3
   },
   "file_extension": ".py",
   "mimetype": "text/x-python",
   "name": "python",
   "nbconvert_exporter": "python",
   "pygments_lexer": "ipython3",
   "version": "3.6.3"
  }
 },
 "nbformat": 4,
 "nbformat_minor": 2
}

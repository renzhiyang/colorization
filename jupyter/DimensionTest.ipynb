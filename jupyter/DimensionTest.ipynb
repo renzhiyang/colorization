{
 "cells": [
  {
   "cell_type": "markdown",
   "metadata": {},
   "source": [
    "# produce random theme"
   ]
  },
  {
   "cell_type": "code",
   "execution_count": 1,
   "metadata": {},
   "outputs": [],
   "source": [
    "from PIL import Image\n",
    "import numpy as np\n",
    "import random\n",
    "from numpy.linalg import cholesky\n",
    "import matplotlib.pyplot as plt\n",
    "import os"
   ]
  },
  {
   "cell_type": "code",
   "execution_count": 2,
   "metadata": {},
   "outputs": [],
   "source": [
    "img_num = 14272\n",
    "img_size = (7, 1)\n",
    "output_path =  \"G:/Database/RandomColorThemeObbey\"\n",
    "\n",
    "def get_pixel_random():\n",
    "    random_r = random.randint(0, 255)\n",
    "    random_g = random.randint(0, 255)\n",
    "    random_b = random.randint(0, 255)\n",
    "    random_a = random.randint(0, 255)\n",
    "    return (random_r, random_g, random_b, random_a)\n",
    "\n",
    "for i in range(img_num):\n",
    "    newThemeImg = Image.new(\"RGB\", img_size)\n",
    "    pnewThemeImg = newThemeImg.load()\n",
    "    for row in range(img_size[0]):\n",
    "        for col in range(img_size[1]):\n",
    "            pnewThemeImg[row, col] = get_pixel_random()\n",
    "    newThemeImg.save(output_path + '/' + str(i) + '_theme.bmp')\n",
    "    "
   ]
  },
  {
   "cell_type": "code",
   "execution_count": null,
   "metadata": {
    "collapsed": true
   },
   "outputs": [],
   "source": []
  }
 ],
 "metadata": {
  "kernelspec": {
   "display_name": "Python 3",
   "language": "python",
   "name": "python3"
  },
  "language_info": {
   "codemirror_mode": {
    "name": "ipython",
    "version": 3
   },
   "file_extension": ".py",
   "mimetype": "text/x-python",
   "name": "python",
   "nbconvert_exporter": "python",
   "pygments_lexer": "ipython3",
   "version": "3.6.3"
  }
 },
 "nbformat": 4,
 "nbformat_minor": 2
}
